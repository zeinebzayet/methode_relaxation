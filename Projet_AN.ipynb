{
 "cells": [
  {
   "cell_type": "code",
   "execution_count": null,
   "id": "323ea384",
   "metadata": {
    "scrolled": true
   },
   "outputs": [],
   "source": [
    "import numpy as np\n",
    "import time as t\n",
    "\n",
    "#verif = True\n",
    "\n",
    "#while verif:\n",
    "    \n",
    "choix = input('Si vous voulez donner ta propre matrice tapez << oui >> sinon tapez << non >> :')\n",
    "\n",
    "if choix == 'oui':\n",
    "    n = int(input(\"donner l'ordre de la matrice :\"))\n",
    "    A = []\n",
    "    for i in range(n):\n",
    "        #ajout a la fin de la liste\n",
    "        A.append([0]*n)\n",
    "        for j in range(n):\n",
    "            A[i][j] = int(input(\"entrer les elements de la matrice A : \"))\n",
    "\n",
    "    b = []\n",
    "    for i in range(0,n):\n",
    "        elt = int(input(\"entrer les elements du vecteur b : \"))\n",
    "        b.append(elt)\n",
    "             \n",
    "      \n",
    "    \n",
    "else:\n",
    "    A = np.random.randint(100,size=(5,5))\n",
    "    b = np.random.randint(100,size=5)\n",
    "    #if np.linalg.det(A) == 0 :\n",
    "        #verif = True \n",
    "    #else:\n",
    "        #verif = False\n",
    "        \n",
    "w = float(input('donner le facteur de relaxation: '))\n",
    "\n",
    "print (b);\n",
    "print (A);"
   ]
  },
  {
   "cell_type": "code",
   "execution_count": null,
   "id": "f1c504ba",
   "metadata": {},
   "outputs": [],
   "source": []
  },
  {
   "cell_type": "code",
   "execution_count": null,
   "id": "adef8114",
   "metadata": {},
   "outputs": [],
   "source": [
    "def relaxation(A,b,w,eps):\n",
    "    \n",
    "    start = t.time()\n",
    "    # Matrices de décomposition D,E et F\n",
    "    D = np.diag(np.diag(A)) # np.diag(A) retourne un vecteur donc il faut que j'ajoute np.diag puisque D est une matrice\n",
    "    E = - np.tril(A,-1) # Matrice triangulaire inferieure (-1 car des zeros au dessus du diagonale + diagonale)\n",
    "    F = - np.triu(A,1) # Matrice triangulaire supérieure (1 car des zeros au dessous du diagonale + diagonale)\n",
    "    \n",
    "    x = b\n",
    "    nb_iter = 0\n",
    "    \n",
    "    # eps donne la precision sur Ax-b \n",
    "    \n",
    "    while np.linalg.norm(np.dot(A,x) - b) > eps:\n",
    "         \n",
    "        x = np.dot( np.linalg.inv(D - (w * E)) , np.dot((1-w) * D , x) + np.dot(w * F,x) ) + np.dot( w * (np.linalg.inv(D - w * E)) , b )\n",
    "        nb_iter += 1 \n",
    "    \n",
    "    c = np.linalg.cond(A,np.inf) #np.inf = norme de l'infinie\n",
    "    end = t.time()\n",
    "    return [c , x, start, end, D, E, F, nb_iter]\n",
    "\n",
    "\n",
    "#nIter_Max = 100\n",
    "eps = 0\n",
    "#appel de la methode\n",
    "[c , x,start, end, D, E, F, nb_iter] = relaxation(A,b,w,eps)\n",
    "\n",
    "#Affichage\n",
    "print('La matrice A: \\n',A,'\\n')\n",
    "print('b=',b,'\\n')\n",
    "print('Cond(A)=',c,'\\n')\n",
    "print('La solution X: \\nX= \\n',x,'\\n')\n",
    "print('Le temps de calcul est: ',end - start,'\\n')\n",
    "print('Les matrices de décomposition: \\nD = \\n',D,' \\nE = \\n',E,' \\nF = \\n',F,'\\n')\n",
    "print(\"Le nombre d'iteration : \",nb_iter)\n",
    "\n",
    "    \n",
    "    \n",
    "    \n"
   ]
  },
  {
   "cell_type": "code",
   "execution_count": null,
   "id": "ff24e811",
   "metadata": {},
   "outputs": [],
   "source": []
  },
  {
   "cell_type": "code",
   "execution_count": null,
   "id": "3e809716",
   "metadata": {},
   "outputs": [],
   "source": []
  },
  {
   "cell_type": "code",
   "execution_count": null,
   "id": "0ead5857",
   "metadata": {},
   "outputs": [],
   "source": []
  },
  {
   "cell_type": "code",
   "execution_count": null,
   "id": "5de7984e",
   "metadata": {},
   "outputs": [],
   "source": []
  }
 ],
 "metadata": {
  "kernelspec": {
   "display_name": "Python 3 (ipykernel)",
   "language": "python",
   "name": "python3"
  },
  "language_info": {
   "codemirror_mode": {
    "name": "ipython",
    "version": 3
   },
   "file_extension": ".py",
   "mimetype": "text/x-python",
   "name": "python",
   "nbconvert_exporter": "python",
   "pygments_lexer": "ipython3",
   "version": "3.10.3"
  }
 },
 "nbformat": 4,
 "nbformat_minor": 5
}
